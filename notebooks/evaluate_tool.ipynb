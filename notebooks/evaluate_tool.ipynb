{
 "cells": [
  {
   "cell_type": "markdown",
   "metadata": {},
   "source": [
    "# Evaluate the tweet generation"
   ]
  },
  {
   "cell_type": "markdown",
   "metadata": {},
   "source": [
    "We will infer the evaluation dataset, and send it to the Flask API, to get an answer for each tweet in the evalset.\n",
    "\n",
    "We will then compare the original tweet from the agent and the generated one.\n",
    "\n",
    "\n",
    "#### Make sure your flask app (app.py) is running locally on port 5000"
   ]
  },
  {
   "cell_type": "code",
   "execution_count": null,
   "metadata": {},
   "outputs": [],
   "source": [
    "import pandas as pd\n",
    "import requests\n",
    "import os\n",
    "\n",
    "if not os.path.exists('../output'):\n",
    "    os.makedirs('../output')"
   ]
  },
  {
   "cell_type": "code",
   "execution_count": null,
   "metadata": {},
   "outputs": [],
   "source": [
    "# Load the CSV file into a DataFrame\n",
    "\n",
    "df = pd.read_csv(\"../data/twitter_data_clean_eval.csv\")"
   ]
  },
  {
   "cell_type": "code",
   "execution_count": null,
   "metadata": {},
   "outputs": [],
   "source": [
    "df.head()"
   ]
  },
  {
   "cell_type": "code",
   "execution_count": null,
   "metadata": {},
   "outputs": [],
   "source": [
    "# Define the URL of your Flask API\n",
    "api_url = 'http://localhost:5000/generate'"
   ]
  },
  {
   "cell_type": "code",
   "execution_count": null,
   "metadata": {},
   "outputs": [],
   "source": [
    "# Function to send request to Flask API and get the response\n",
    "def get_api_response(customer_tweet):\n",
    "    response = requests.post(api_url, json={'input_text': customer_tweet})\n",
    "    if response.status_code == 200:\n",
    "        return response.json().get('response')\n",
    "    else:\n",
    "        return None"
   ]
  },
  {
   "cell_type": "code",
   "execution_count": null,
   "metadata": {},
   "outputs": [],
   "source": [
    "# Filter on the first 50 tweet of the evaluation set\n",
    "df = df.iloc[:50]"
   ]
  },
  {
   "cell_type": "code",
   "execution_count": null,
   "metadata": {},
   "outputs": [],
   "source": [
    "# Iterate over the DataFrame and send each customer tweet to the Flask API\n",
    "for index, row in df.iterrows():\n",
    "    response = get_api_response(row['customer_tweet'])\n",
    "    # Store the response in the DataFrame\n",
    "    df.at[index, 'generated_response'] = response"
   ]
  },
  {
   "cell_type": "code",
   "execution_count": null,
   "metadata": {},
   "outputs": [],
   "source": [
    "df.to_excel('../output/evaluation_generation_first_50.xlsx')"
   ]
  }
 ],
 "metadata": {
  "kernelspec": {
   "display_name": "flask_env",
   "language": "python",
   "name": "python3"
  },
  "language_info": {
   "codemirror_mode": {
    "name": "ipython",
    "version": 3
   },
   "file_extension": ".py",
   "mimetype": "text/x-python",
   "name": "python",
   "nbconvert_exporter": "python",
   "pygments_lexer": "ipython3",
   "version": "3.11.8"
  }
 },
 "nbformat": 4,
 "nbformat_minor": 2
}
